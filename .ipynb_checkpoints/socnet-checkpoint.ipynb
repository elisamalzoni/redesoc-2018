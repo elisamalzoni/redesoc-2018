{
 "cells": [
  {
   "cell_type": "markdown",
   "metadata": {},
   "source": [
    "# Desafios de Programação: Guia 8\n",
    "\n",
    "Formalmente, um **grafo** é um par $(N, E)$, onde $N$ é um conjunto qualquer e $E$ é um conjunto de pares ordenados de elementos de $N$, ou seja,\n",
    "\n",
    "$$E \\subseteq \\{(n, m) \\colon n \\in N \\textrm{ e } m \\in N\\}$$.\n",
    "\n",
    "Entendeu? Provavelmente não, então vamos tentar uma definição mais informal: um grafo contém elementos, chamados **nós**, e cada par desses elementos pode ou não ter uma conexão. Essas conexões, chamadas **arestas**, possuem direção: a aresta de $n$ para $m$ e a aresta de $m$ para $n$ são consideradas diferentes.\n",
    "\n",
    "Entendeu agora? Provavelmente ainda não... Mesmo sendo mais informal, essa descrição em texto é muito abstrata!"
   ]
  },
  {
   "cell_type": "markdown",
   "metadata": {},
   "source": [
    "## Instalando as dependências\n",
    "\n",
    "Precisamos de uma descrição mais visual, mas para isso precisamos antes instalar algumas dependências.\n",
    "\n",
    "    pip install networkx plotly\n",
    "\n",
    "Em algumas distribuições Linux você deve usar o comando `pip3`, pois o comando `pip` está associado a Python 2 por padrão."
   ]
  },
  {
   "cell_type": "markdown",
   "metadata": {},
   "source": [
    "## Importando a biblioteca\n",
    "\n",
    "Confirme que o arquivo `socnet.py` e este notebook estão na mesma pasta."
   ]
  },
  {
   "cell_type": "code",
   "execution_count": null,
   "metadata": {},
   "outputs": [],
   "source": [
    "import socnet as sn"
   ]
  },
  {
   "cell_type": "markdown",
   "metadata": {},
   "source": [
    "## Configurando a biblioteca\n",
    "\n",
    "Por enquanto, mantenha os valores padrão. Você pode mudar depois."
   ]
  },
  {
   "cell_type": "code",
   "execution_count": null,
   "metadata": {},
   "outputs": [],
   "source": [
    "sn.graph_width = 320\n",
    "sn.graph_height = 180\n",
    "\n",
    "sn.node_size = 20\n",
    "sn.node_color = (255, 255, 255)\n",
    "\n",
    "sn.edge_width = 1\n",
    "sn.edge_color = (0, 0, 0)"
   ]
  },
  {
   "cell_type": "markdown",
   "metadata": {},
   "source": [
    "## Carregando um grafo\n",
    "\n",
    "O arquivo `socnet.gml` está no [formato GML](http://www.fim.uni-passau.de/fileadmin/files/lehrstuhl/brandenburg/projekte/gml/gml-technical-report.pdf).\n",
    "\n",
    "O parâmetro `has_pos=True` indica que o próprio arquivo diz em qual posição cada nó deve estar na visualização. Se isso não fosse verdade, a biblioteca atribuiria posições aleatórias."
   ]
  },
  {
   "cell_type": "code",
   "execution_count": null,
   "metadata": {},
   "outputs": [],
   "source": [
    "g = sn.load_graph('socnet.gml', has_pos=True)"
   ]
  },
  {
   "cell_type": "markdown",
   "metadata": {},
   "source": [
    "## Visualizando um grafo"
   ]
  },
  {
   "cell_type": "code",
   "execution_count": null,
   "metadata": {},
   "outputs": [],
   "source": [
    "sn.show_graph(g)"
   ]
  },
  {
   "cell_type": "markdown",
   "metadata": {},
   "source": [
    "Pronto, isso é um grafo! Bolinhas e setas que ligam essas bolinhas.\n",
    "\n",
    "Releia as definições anteriores e confirme que estávamos falando disso o tempo todo!"
   ]
  },
  {
   "cell_type": "markdown",
   "metadata": {},
   "source": [
    "## Usando outras funcionalidades da biblioteca\n",
    "\n",
    "O grafo `g` tem $7$ nós:"
   ]
  },
  {
   "cell_type": "code",
   "execution_count": null,
   "metadata": {},
   "outputs": [],
   "source": [
    "print(g.number_of_nodes())"
   ]
  },
  {
   "cell_type": "markdown",
   "metadata": {},
   "source": [
    "Fiel à definição formal, a biblioteca aceita que nós possam ser qualquer coisa. Nesse grafo em particular, são os inteiros de $0$ a $6$."
   ]
  },
  {
   "cell_type": "code",
   "execution_count": null,
   "metadata": {},
   "outputs": [],
   "source": [
    "for n in g.nodes:\n",
    "    print(n)"
   ]
  },
  {
   "cell_type": "markdown",
   "metadata": {},
   "source": [
    "Usando uma sintaxe especial de colchetes, podemos ler e escrever atributos em nós."
   ]
  },
  {
   "cell_type": "code",
   "execution_count": null,
   "metadata": {},
   "outputs": [],
   "source": [
    "# atribui ao atributo chamado 'color' do nó 0 o valor (255, 0, 0)\n",
    "g.nodes[0]['color'] = (255, 0, 0)\n",
    "\n",
    "# imprime o atributo chamado 'color' do nó 0\n",
    "print(g.nodes[0]['color'])"
   ]
  },
  {
   "cell_type": "markdown",
   "metadata": {},
   "source": [
    "Usando outra sintaxe especial de colchetes, podemos ler e escrever atributos em arestas."
   ]
  },
  {
   "cell_type": "code",
   "execution_count": null,
   "metadata": {},
   "outputs": [],
   "source": [
    "# atribui ao atributo chamado 'color' da aresta (0, 1) o valor (0, 0, 255)\n",
    "g.edges[0, 1]['color'] = (0, 0, 255)\n",
    "\n",
    "# imprime o atributo chamado 'color' da aresta (0, 1)\n",
    "print(g.edges[0, 1]['color'])"
   ]
  },
  {
   "cell_type": "markdown",
   "metadata": {},
   "source": [
    "Se adicionamos um atributo `label` a cada nó e adicionamos o parâmetro `nlab=True` à função `show_graph`, podemos incluir nomes na visualização.\n",
    "\n",
    "Além disso, o atributo `color`, tanto em nós quanto em arestas, é usado na visualização."
   ]
  },
  {
   "cell_type": "code",
   "execution_count": null,
   "metadata": {},
   "outputs": [],
   "source": [
    "for n in g.nodes:\n",
    "    g.nodes[n]['label'] = str(n)\n",
    "\n",
    "sn.show_graph(g, nlab=True)"
   ]
  },
  {
   "cell_type": "markdown",
   "metadata": {},
   "source": [
    "Por causa disso, existem também funções de conveniência para reinicializar esse atributo."
   ]
  },
  {
   "cell_type": "code",
   "execution_count": null,
   "metadata": {},
   "outputs": [],
   "source": [
    "sn.reset_node_colors(g)\n",
    "sn.reset_edge_colors(g)\n",
    "\n",
    "sn.show_graph(g, nlab=True)"
   ]
  },
  {
   "cell_type": "markdown",
   "metadata": {},
   "source": [
    "Dado um nó $n$, dizemos que outro nó $m$ é seu **sucessor** se existe uma aresta de $n$ a $m$."
   ]
  },
  {
   "cell_type": "code",
   "execution_count": null,
   "metadata": {},
   "outputs": [],
   "source": [
    "for n in g.nodes:\n",
    "    print('sucessores de {}:'.format(n), ', '.join([str(m) for m in g.successors(n)]))"
   ]
  },
  {
   "cell_type": "markdown",
   "metadata": {},
   "source": [
    "Dado um nó $n$, dizemos que outro nó $m$ é seu **predecessor** se existe uma aresta de $m$ a $n$."
   ]
  },
  {
   "cell_type": "code",
   "execution_count": null,
   "metadata": {},
   "outputs": [],
   "source": [
    "for n in g.nodes:\n",
    "    print('predecessores de {}:'.format(n), ', '.join([str(m) for m in g.predecessors(n)]))"
   ]
  },
  {
   "cell_type": "markdown",
   "metadata": {},
   "source": [
    "## Visualizando um algoritmo\n",
    "\n",
    "A função `generate_frame` é parecida com a função `show_graph` mas, em vez de mostrar uma imagem estática, gera um *quadro* que pode ser usado para montar uma *animação*: basta usar a função `show_animation` para animar uma lista de quadros."
   ]
  },
  {
   "cell_type": "code",
   "execution_count": null,
   "metadata": {},
   "outputs": [],
   "source": [
    "frames = []\n",
    "\n",
    "sn.reset_node_colors(g)\n",
    "\n",
    "for n in g.nodes:\n",
    "    g.nodes[n]['color'] = (0, 255, 0)\n",
    "\n",
    "    frame = sn.generate_frame(g, nlab=True)\n",
    "    frames.append(frame)\n",
    "\n",
    "sn.show_animation(frames)"
   ]
  },
  {
   "cell_type": "markdown",
   "metadata": {},
   "source": [
    "## Busca em profundidade (com recursão)"
   ]
  },
  {
   "cell_type": "code",
   "execution_count": null,
   "metadata": {},
   "outputs": [],
   "source": [
    "def dfs_r(g, n, frames):\n",
    "    g.nodes[n]['color'] = (0, 255, 0)\n",
    "    g.nodes[n]['visited'] = True\n",
    "\n",
    "    frame = sn.generate_frame(g, nlab=True)\n",
    "    frames.append(frame)\n",
    "\n",
    "    for m in g.successors(n):\n",
    "        if not g.nodes[m]['visited']:\n",
    "            dfs_r(g, m, frames)\n",
    "\n",
    "\n",
    "frames = []\n",
    "\n",
    "sn.reset_node_colors(g)\n",
    "for n in g.nodes:\n",
    "    g.nodes[n]['visited'] = False\n",
    "\n",
    "dfs_r(g, 0, frames)\n",
    "\n",
    "sn.show_animation(frames)"
   ]
  },
  {
   "cell_type": "markdown",
   "metadata": {},
   "source": [
    "## Busca em profundidade (sem recursão)\n",
    "\n",
    "Dica: https://docs.python.org/3/tutorial/datastructures.html#using-lists-as-stacks"
   ]
  },
  {
   "cell_type": "code",
   "execution_count": null,
   "metadata": {},
   "outputs": [],
   "source": [
    "def dfs(g, s, frames):\n",
    "    sn.reset_node_colors(g)\n",
    "    for n in g.nodes:\n",
    "        g.nodes[n]['visited'] = False\n",
    "\n",
    "    g.nodes[s]['color'] = (0, 255, 0)\n",
    "    g.nodes[s]['visited'] = True\n",
    "\n",
    "    frame = sn.generate_frame(g, nlab=True)\n",
    "    frames.append(frame)\n",
    "\n",
    "    stack = []\n",
    "    stack.append(s)\n",
    "\n",
    "    while stack:\n",
    "        n = stack.pop()\n",
    "\n",
    "        for m in g.successors(n):\n",
    "            if not g.nodes[m]['visited']:\n",
    "                g.nodes[m]['color'] = (0, 255, 0)\n",
    "                g.nodes[m]['visited'] = True\n",
    "\n",
    "                frame = sn.generate_frame(g, nlab=True)\n",
    "                frames.append(frame)\n",
    "\n",
    "                stack.append(m)\n",
    "\n",
    "\n",
    "frames = []\n",
    "\n",
    "dfs(g, 0, frames)\n",
    "\n",
    "sn.show_animation(frames)"
   ]
  },
  {
   "cell_type": "markdown",
   "metadata": {},
   "source": [
    "## Busca em largura\n",
    "\n",
    "Dica: https://docs.python.org/3/library/queue.html"
   ]
  },
  {
   "cell_type": "code",
   "execution_count": null,
   "metadata": {},
   "outputs": [],
   "source": [
    "from queue import Queue\n",
    "\n",
    "\n",
    "def bfs(g, s, frames):\n",
    "    sn.reset_node_colors(g)\n",
    "    for n in g.nodes:\n",
    "        g.nodes[n]['visited'] = False\n",
    "\n",
    "    g.nodes[s]['color'] = (0, 255, 0)\n",
    "    g.nodes[s]['visited'] = True\n",
    "\n",
    "    frame = sn.generate_frame(g, nlab=True)\n",
    "    frames.append(frame)\n",
    "\n",
    "    q = Queue()\n",
    "    q.put(s)\n",
    "\n",
    "    while not q.empty():\n",
    "        n = q.get()\n",
    "\n",
    "        for m in g.successors(n):\n",
    "            if not g.nodes[m]['visited']:\n",
    "                g.nodes[m]['color'] = (0, 255, 0)\n",
    "                g.nodes[m]['visited'] = True\n",
    "\n",
    "                frame = sn.generate_frame(g, nlab=True)\n",
    "                frames.append(frame)\n",
    "\n",
    "                q.put(m)\n",
    "\n",
    "\n",
    "frames = []\n",
    "\n",
    "bfs(g, 0, frames)\n",
    "\n",
    "sn.show_animation(frames)"
   ]
  },
  {
   "cell_type": "code",
   "execution_count": null,
   "metadata": {},
   "outputs": [],
   "source": []
  }
 ],
 "metadata": {
  "kernelspec": {
   "display_name": "Python 3",
   "language": "python",
   "name": "python3"
  },
  "language_info": {
   "codemirror_mode": {
    "name": "ipython",
    "version": 3
   },
   "file_extension": ".py",
   "mimetype": "text/x-python",
   "name": "python",
   "nbconvert_exporter": "python",
   "pygments_lexer": "ipython3",
   "version": "3.5.2"
  }
 },
 "nbformat": 4,
 "nbformat_minor": 1
}
