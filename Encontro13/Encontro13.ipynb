{
 "cells": [
  {
   "cell_type": "markdown",
   "metadata": {},
   "source": [
    "# Encontro 13: Medidas de Centralidade\n",
    "\n",
    "Importando a biblioteca:"
   ]
  },
  {
   "cell_type": "code",
   "execution_count": 1,
   "metadata": {},
   "outputs": [
    {
     "data": {
      "text/html": [
       "<script>requirejs.config({paths: { 'plotly': ['https://cdn.plot.ly/plotly-latest.min']},});if(!window.Plotly) {{require(['plotly'],function(plotly) {window.Plotly=plotly;});}}</script>"
      ],
      "text/vnd.plotly.v1+html": [
       "<script>requirejs.config({paths: { 'plotly': ['https://cdn.plot.ly/plotly-latest.min']},});if(!window.Plotly) {{require(['plotly'],function(plotly) {window.Plotly=plotly;});}}</script>"
      ]
     },
     "metadata": {},
     "output_type": "display_data"
    }
   ],
   "source": [
    "import sys\n",
    "sys.path.append('..')\n",
    "\n",
    "from random import choice\n",
    "from itertools import permutations\n",
    "\n",
    "import pandas as pd\n",
    "import networkx as nx\n",
    "\n",
    "import socnet as sn"
   ]
  },
  {
   "cell_type": "markdown",
   "metadata": {},
   "source": [
    "Configurando a biblioteca:"
   ]
  },
  {
   "cell_type": "code",
   "execution_count": 2,
   "metadata": {},
   "outputs": [],
   "source": [
    "sn.node_size = 10\n",
    "sn.node_color = (255, 255, 255)\n",
    "\n",
    "sn.edge_width = 1\n",
    "sn.edge_color = (192, 192, 192)\n",
    "\n",
    "sn.node_label_position = 'top center'"
   ]
  },
  {
   "cell_type": "markdown",
   "metadata": {},
   "source": [
    "Carregando rede de casamentos entre famílias de Florença durante a Renascença.\n",
    "\n",
    "J. F. Padgett e C. K. Ansell. *Robust action and the rise of the Medici, 1400–1434.* American Journal of\n",
    "Sociology 98, págs. 1259-1319, 1993."
   ]
  },
  {
   "cell_type": "code",
   "execution_count": 3,
   "metadata": {},
   "outputs": [
    {
     "data": {
      "application/vnd.plotly.v1+json": {
       "data": [
        {
         "hoverinfo": "none",
         "line": {
          "color": "rgb(192, 192, 192)",
          "width": 1
         },
         "mode": "lines",
         "x": [
          0.5138211382113821,
          0.5609756097560976,
          null,
          0.9658536585365853,
          0.8097560975609757,
          null,
          0.5609756097560976,
          0.8097560975609757,
          null,
          0.5609756097560976,
          0.44552845528455287,
          null,
          0.8097560975609757,
          1,
          null,
          0.8097560975609757,
          0.6130081300813008,
          null,
          0,
          0.23414634146341465,
          null,
          0.23414634146341465,
          0.44552845528455287,
          null,
          0.44552845528455287,
          0.6130081300813008,
          null,
          0.44552845528455287,
          0.624390243902439,
          null,
          0.44552845528455287,
          0.26991869918699185,
          null,
          0.44552845528455287,
          0.5138211382113821,
          null,
          0.6130081300813008,
          0.624390243902439,
          null,
          1,
          0.8357723577235773,
          null,
          1,
          0.9951219512195122,
          null,
          0.624390243902439,
          0.8357723577235773,
          null,
          0.8357723577235773,
          0.7626016260162601,
          null,
          0.9951219512195122,
          0.7626016260162601,
          null,
          0.5138211382113821,
          0.7626016260162601,
          null
         ],
         "y": [
          1,
          0.736734693877551,
          null,
          0.8673469387755102,
          0.6714285714285715,
          null,
          0.736734693877551,
          0.6714285714285715,
          null,
          0.736734693877551,
          0.4285714285714286,
          null,
          0.6714285714285715,
          0.44897959183673475,
          null,
          0.6714285714285715,
          0.5326530612244897,
          null,
          0.5061224489795919,
          0.48367346938775513,
          null,
          0.48367346938775513,
          0.4285714285714286,
          null,
          0.4285714285714286,
          0.5326530612244897,
          null,
          0.4285714285714286,
          0.33673469387755106,
          null,
          0.4285714285714286,
          0.2204081632653061,
          null,
          0.4285714285714286,
          0.09999999999999998,
          null,
          0.5326530612244897,
          0.33673469387755106,
          null,
          0.44897959183673475,
          0.2020408163265306,
          null,
          0.44897959183673475,
          0.17755102040816328,
          null,
          0.33673469387755106,
          0.2020408163265306,
          null,
          0.2020408163265306,
          0,
          null,
          0.17755102040816328,
          0,
          null,
          0.09999999999999998,
          0,
          null
         ]
        },
        {
         "hoverinfo": "none",
         "marker": {
          "color": "rgb(255, 255, 255)",
          "line": {
           "color": "rgb(0, 0, 0)",
           "width": 1
          },
          "size": 10
         },
         "mode": "markers+text",
         "text": [
          "ginori",
          "lambertes",
          "albizzi",
          "guadagni",
          "pazzi",
          "salviati",
          "medici",
          "tornabuon",
          "bischeri",
          "ridolfi",
          "acciaiuol",
          "strozzi",
          "peruzzi",
          "barbadori",
          "castellan"
         ],
         "textfont": {
          "color": "rgb(0, 0, 0)"
         },
         "textposition": "top center",
         "x": [
          0.5138211382113821,
          0.9658536585365853,
          0.5609756097560976,
          0.8097560975609757,
          0,
          0.23414634146341465,
          0.44552845528455287,
          0.6130081300813008,
          1,
          0.624390243902439,
          0.26991869918699185,
          0.8357723577235773,
          0.9951219512195122,
          0.5138211382113821,
          0.7626016260162601
         ],
         "y": [
          1,
          0.8673469387755102,
          0.736734693877551,
          0.6714285714285715,
          0.5061224489795919,
          0.48367346938775513,
          0.4285714285714286,
          0.5326530612244897,
          0.44897959183673475,
          0.33673469387755106,
          0.2204081632653061,
          0.2020408163265306,
          0.17755102040816328,
          0.09999999999999998,
          0
         ]
        }
       ],
       "layout": {
        "height": 450,
        "margin": {
         "b": 0,
         "l": 0,
         "r": 0,
         "t": 0
        },
        "showlegend": false,
        "width": 800,
        "xaxis": {
         "showgrid": false,
         "showticklabels": false,
         "zeroline": false
        },
        "yaxis": {
         "showgrid": false,
         "showticklabels": false,
         "zeroline": false
        }
       }
      },
      "text/html": [
       "<div id=\"47d27a44-2339-4066-b2ff-eb0130765d0a\" style=\"height: 450px; width: 800px;\" class=\"plotly-graph-div\"></div><script type=\"text/javascript\">require([\"plotly\"], function(Plotly) { window.PLOTLYENV=window.PLOTLYENV || {};window.PLOTLYENV.BASE_URL=\"https://plot.ly\";Plotly.newPlot(\"47d27a44-2339-4066-b2ff-eb0130765d0a\", [{\"x\": [0.5138211382113821, 0.5609756097560976, null, 0.9658536585365853, 0.8097560975609757, null, 0.5609756097560976, 0.8097560975609757, null, 0.5609756097560976, 0.44552845528455287, null, 0.8097560975609757, 1.0, null, 0.8097560975609757, 0.6130081300813008, null, 0.0, 0.23414634146341465, null, 0.23414634146341465, 0.44552845528455287, null, 0.44552845528455287, 0.6130081300813008, null, 0.44552845528455287, 0.624390243902439, null, 0.44552845528455287, 0.26991869918699185, null, 0.44552845528455287, 0.5138211382113821, null, 0.6130081300813008, 0.624390243902439, null, 1.0, 0.8357723577235773, null, 1.0, 0.9951219512195122, null, 0.624390243902439, 0.8357723577235773, null, 0.8357723577235773, 0.7626016260162601, null, 0.9951219512195122, 0.7626016260162601, null, 0.5138211382113821, 0.7626016260162601, null], \"mode\": \"lines\", \"line\": {\"width\": 1, \"color\": \"rgb(192, 192, 192)\"}, \"hoverinfo\": \"none\", \"y\": [1.0, 0.736734693877551, null, 0.8673469387755102, 0.6714285714285715, null, 0.736734693877551, 0.6714285714285715, null, 0.736734693877551, 0.4285714285714286, null, 0.6714285714285715, 0.44897959183673475, null, 0.6714285714285715, 0.5326530612244897, null, 0.5061224489795919, 0.48367346938775513, null, 0.48367346938775513, 0.4285714285714286, null, 0.4285714285714286, 0.5326530612244897, null, 0.4285714285714286, 0.33673469387755106, null, 0.4285714285714286, 0.2204081632653061, null, 0.4285714285714286, 0.09999999999999998, null, 0.5326530612244897, 0.33673469387755106, null, 0.44897959183673475, 0.2020408163265306, null, 0.44897959183673475, 0.17755102040816328, null, 0.33673469387755106, 0.2020408163265306, null, 0.2020408163265306, 0.0, null, 0.17755102040816328, 0.0, null, 0.09999999999999998, 0.0, null]}, {\"marker\": {\"size\": 10, \"line\": {\"width\": 1, \"color\": \"rgb(0, 0, 0)\"}, \"color\": \"rgb(255, 255, 255)\"}, \"textposition\": \"top center\", \"y\": [1.0, 0.8673469387755102, 0.736734693877551, 0.6714285714285715, 0.5061224489795919, 0.48367346938775513, 0.4285714285714286, 0.5326530612244897, 0.44897959183673475, 0.33673469387755106, 0.2204081632653061, 0.2020408163265306, 0.17755102040816328, 0.09999999999999998, 0.0], \"textfont\": {\"color\": \"rgb(0, 0, 0)\"}, \"x\": [0.5138211382113821, 0.9658536585365853, 0.5609756097560976, 0.8097560975609757, 0.0, 0.23414634146341465, 0.44552845528455287, 0.6130081300813008, 1.0, 0.624390243902439, 0.26991869918699185, 0.8357723577235773, 0.9951219512195122, 0.5138211382113821, 0.7626016260162601], \"mode\": \"markers+text\", \"text\": [\"ginori\", \"lambertes\", \"albizzi\", \"guadagni\", \"pazzi\", \"salviati\", \"medici\", \"tornabuon\", \"bischeri\", \"ridolfi\", \"acciaiuol\", \"strozzi\", \"peruzzi\", \"barbadori\", \"castellan\"], \"hoverinfo\": \"none\"}], {\"showlegend\": false, \"height\": 450, \"width\": 800, \"yaxis\": {\"showgrid\": false, \"zeroline\": false, \"showticklabels\": false}, \"margin\": {\"l\": 0, \"b\": 0, \"r\": 0, \"t\": 0}, \"xaxis\": {\"showgrid\": false, \"zeroline\": false, \"showticklabels\": false}}, {\"displayModeBar\": false, \"showLink\": false, \"linkText\": \"Export to plot.ly\"})});</script>"
      ],
      "text/vnd.plotly.v1+html": [
       "<div id=\"47d27a44-2339-4066-b2ff-eb0130765d0a\" style=\"height: 450px; width: 800px;\" class=\"plotly-graph-div\"></div><script type=\"text/javascript\">require([\"plotly\"], function(Plotly) { window.PLOTLYENV=window.PLOTLYENV || {};window.PLOTLYENV.BASE_URL=\"https://plot.ly\";Plotly.newPlot(\"47d27a44-2339-4066-b2ff-eb0130765d0a\", [{\"x\": [0.5138211382113821, 0.5609756097560976, null, 0.9658536585365853, 0.8097560975609757, null, 0.5609756097560976, 0.8097560975609757, null, 0.5609756097560976, 0.44552845528455287, null, 0.8097560975609757, 1.0, null, 0.8097560975609757, 0.6130081300813008, null, 0.0, 0.23414634146341465, null, 0.23414634146341465, 0.44552845528455287, null, 0.44552845528455287, 0.6130081300813008, null, 0.44552845528455287, 0.624390243902439, null, 0.44552845528455287, 0.26991869918699185, null, 0.44552845528455287, 0.5138211382113821, null, 0.6130081300813008, 0.624390243902439, null, 1.0, 0.8357723577235773, null, 1.0, 0.9951219512195122, null, 0.624390243902439, 0.8357723577235773, null, 0.8357723577235773, 0.7626016260162601, null, 0.9951219512195122, 0.7626016260162601, null, 0.5138211382113821, 0.7626016260162601, null], \"mode\": \"lines\", \"line\": {\"width\": 1, \"color\": \"rgb(192, 192, 192)\"}, \"hoverinfo\": \"none\", \"y\": [1.0, 0.736734693877551, null, 0.8673469387755102, 0.6714285714285715, null, 0.736734693877551, 0.6714285714285715, null, 0.736734693877551, 0.4285714285714286, null, 0.6714285714285715, 0.44897959183673475, null, 0.6714285714285715, 0.5326530612244897, null, 0.5061224489795919, 0.48367346938775513, null, 0.48367346938775513, 0.4285714285714286, null, 0.4285714285714286, 0.5326530612244897, null, 0.4285714285714286, 0.33673469387755106, null, 0.4285714285714286, 0.2204081632653061, null, 0.4285714285714286, 0.09999999999999998, null, 0.5326530612244897, 0.33673469387755106, null, 0.44897959183673475, 0.2020408163265306, null, 0.44897959183673475, 0.17755102040816328, null, 0.33673469387755106, 0.2020408163265306, null, 0.2020408163265306, 0.0, null, 0.17755102040816328, 0.0, null, 0.09999999999999998, 0.0, null]}, {\"marker\": {\"size\": 10, \"line\": {\"width\": 1, \"color\": \"rgb(0, 0, 0)\"}, \"color\": \"rgb(255, 255, 255)\"}, \"textposition\": \"top center\", \"y\": [1.0, 0.8673469387755102, 0.736734693877551, 0.6714285714285715, 0.5061224489795919, 0.48367346938775513, 0.4285714285714286, 0.5326530612244897, 0.44897959183673475, 0.33673469387755106, 0.2204081632653061, 0.2020408163265306, 0.17755102040816328, 0.09999999999999998, 0.0], \"textfont\": {\"color\": \"rgb(0, 0, 0)\"}, \"x\": [0.5138211382113821, 0.9658536585365853, 0.5609756097560976, 0.8097560975609757, 0.0, 0.23414634146341465, 0.44552845528455287, 0.6130081300813008, 1.0, 0.624390243902439, 0.26991869918699185, 0.8357723577235773, 0.9951219512195122, 0.5138211382113821, 0.7626016260162601], \"mode\": \"markers+text\", \"text\": [\"ginori\", \"lambertes\", \"albizzi\", \"guadagni\", \"pazzi\", \"salviati\", \"medici\", \"tornabuon\", \"bischeri\", \"ridolfi\", \"acciaiuol\", \"strozzi\", \"peruzzi\", \"barbadori\", \"castellan\"], \"hoverinfo\": \"none\"}], {\"showlegend\": false, \"height\": 450, \"width\": 800, \"yaxis\": {\"showgrid\": false, \"zeroline\": false, \"showticklabels\": false}, \"margin\": {\"l\": 0, \"b\": 0, \"r\": 0, \"t\": 0}, \"xaxis\": {\"showgrid\": false, \"zeroline\": false, \"showticklabels\": false}}, {\"displayModeBar\": false, \"showLink\": false, \"linkText\": \"Export to plot.ly\"})});</script>"
      ]
     },
     "metadata": {},
     "output_type": "display_data"
    }
   ],
   "source": [
    "g = sn.load_graph('Renaissance.gml', has_pos=True)\n",
    "\n",
    "sn.show_graph(g, nlab=True)"
   ]
  },
  {
   "cell_type": "markdown",
   "metadata": {},
   "source": [
    "Função que registra, em cada nó, seus sucessores em geodésicas de $s$ a $t$."
   ]
  },
  {
   "cell_type": "code",
   "execution_count": 4,
   "metadata": {},
   "outputs": [],
   "source": [
    "def set_geodesic_successors(g, s, t):\n",
    "    for n in g.nodes:\n",
    "        g.nodes[n]['geodesic_successors'] = set()\n",
    "\n",
    "    for p in nx.all_shortest_paths(g, s, t):\n",
    "        for i in range(len(p) - 1):\n",
    "            g.nodes[p[i]]['geodesic_successors'].add(p[i + 1])"
   ]
  },
  {
   "cell_type": "markdown",
   "metadata": {},
   "source": [
    "Funções que representam uma escolha aleatória de sucessor para diferentes tipos de trajetórias."
   ]
  },
  {
   "cell_type": "code",
   "execution_count": 5,
   "metadata": {},
   "outputs": [],
   "source": [
    "# Pense que o atributo 'passages' abaixo indica quantas\n",
    "# vezes um fluxo já passou por um nó ou por uma aresta.\n",
    "\n",
    "def random_geodesic_successor(g, n):\n",
    "    return choice([m for m in g.nodes[n]['geodesic_successors']])\n",
    "\n",
    "def random_path_successor(g, n):\n",
    "    return choice([m for m in g.neighbors(n) if g.nodes[m]['passages'] == 0])\n",
    "\n",
    "def random_trail_successor(g, n):\n",
    "    return choice([m for m in g.neighbors(n) if g.edges[n, m]['passages'] == 0])\n",
    "\n",
    "def random_walk_successor(g, n):\n",
    "    return choice([m for m in g.neighbors(n)])"
   ]
  },
  {
   "cell_type": "markdown",
   "metadata": {},
   "source": [
    "Função que faz uma simulação de fluxo de $s$ a $t$, que pode ou não ser bem-sucedida."
   ]
  },
  {
   "cell_type": "code",
   "execution_count": 6,
   "metadata": {},
   "outputs": [],
   "source": [
    "def simulate_single_flow(g, s, t, func_traj, difusao):\n",
    "    # Inicializa o atributo 'passages' de cada nó.\n",
    "    for n in g.nodes:\n",
    "        g.nodes[n]['passages'] = 0\n",
    "    g.nodes[s]['passages'] = 1\n",
    "\n",
    "    # Inicializa o atributo 'passages' de cada aresta.\n",
    "    for n, m in g.edges:\n",
    "        g.edges[n, m]['passages'] = 0\n",
    "\n",
    "    # Inicializa s como o único dono do insumo.\n",
    "    for n in g.nodes:\n",
    "        g.nodes[n]['owner'] = False\n",
    "    g.nodes[s]['owner'] = True\n",
    "\n",
    "    # Simula o fluxo, contando o número total de passos.\n",
    "\n",
    "    steps = 0\n",
    "\n",
    "    while True:\n",
    "        # O conjunto reached representa todos os nós\n",
    "        # que o fluxo consegue alcançar no passo atual.\n",
    "        reached = set()\n",
    "\n",
    "        # Verifica cada um dos donos atuais do insumo.\n",
    "\n",
    "        owners = [n for n in g.nodes if g.nodes[n]['owner']]\n",
    "\n",
    "        for n in owners:\n",
    "            # Deixa de ser dono do insumo.\n",
    "            g.nodes[n]['owner'] = difusao ###\n",
    "            \n",
    "            try:\n",
    "                # Escolhe aleatoriamente um dos sucessores.\n",
    "                m = func_traj(g, n) ##\n",
    "            except IndexError:\n",
    "                continue\n",
    "            \n",
    "            # Deixa de ser dono do insumo.\n",
    "            g.nodes[n]['owner'] = difusao ###\n",
    "            \n",
    "            # Incrementa o atributo 'passages' do nó.\n",
    "            g.nodes[m]['passages'] += 1\n",
    "\n",
    "            # Incrementa o atributo 'passages' da aresta.\n",
    "            g.edges[n, m]['passages'] += 1\n",
    "\n",
    "            # Registra que consegue alcançar esse nó.\n",
    "            reached.add(m)\n",
    "\n",
    "            \n",
    "        # Todo nó alcançado passa a ser dono do insumo.\n",
    "\n",
    "        for n in reached:\n",
    "            g.nodes[n]['owner'] = True\n",
    "\n",
    "        # Isso conclui o passo atual da simulação.\n",
    "        steps += 1\n",
    "\n",
    "        # Se o passo alcançou t, chegamos ao fim da simulação.\n",
    "        # Ela foi bem-sucedida: devolvemos o número de passos.\n",
    "        if t in reached:\n",
    "            return steps\n",
    "\n",
    "        # Se o passo não alcançou ninguém, chegamos ao fim da\n",
    "        # simulação. Ela não foi bem-sucedida: devolvemos -1.\n",
    "        if not reached:\n",
    "            return -1"
   ]
  },
  {
   "cell_type": "markdown",
   "metadata": {},
   "source": [
    "Função que faz simulações de fluxo de $s$ a $t$ até uma ser bem-sucedida."
   ]
  },
  {
   "cell_type": "code",
   "execution_count": 7,
   "metadata": {},
   "outputs": [],
   "source": [
    "def simulate_successful_flow(g, s, t, func_traj, difusao):\n",
    "    set_geodesic_successors(g, s, t)\n",
    "\n",
    "    while True:\n",
    "        steps = simulate_single_flow(g, s, t, func_traj, difusao)\n",
    "\n",
    "        if steps != -1:\n",
    "            return steps"
   ]
  },
  {
   "cell_type": "markdown",
   "metadata": {},
   "source": [
    "Função que faz simulações de fluxo para todo $s$ e $t$ possíveis, e tira disso um *closeness simulado* e um *betweenness simulado*."
   ]
  },
  {
   "cell_type": "code",
   "execution_count": 8,
   "metadata": {},
   "outputs": [],
   "source": [
    "def simulate_all_flows(g,func_traj, difusao):\n",
    "    for n in g.nodes:\n",
    "        g.nodes[n]['closeness'] = 0\n",
    "        g.nodes[n]['betweenness'] = 0\n",
    "\n",
    "    for s, t in permutations(g.nodes, 2):\n",
    "        steps = simulate_successful_flow(g, s, t, func_traj, difusao)\n",
    "\n",
    "        g.nodes[s]['closeness'] += steps\n",
    "        for n in g.nodes:\n",
    "            if n != s and n != t:\n",
    "                g.nodes[n]['betweenness'] += g.nodes[n]['passages']\n",
    "\n",
    "    # Normalizações necessárias para comparar com os\n",
    "    # resultados analíticos. Não precisa entender.\n",
    "    for n in g.nodes:\n",
    "        g.nodes[n]['closeness'] = (g.number_of_nodes() - 1) / g.nodes[n]['closeness']\n",
    "        g.nodes[n]['betweenness'] /= (g.number_of_nodes() - 1) * (g.number_of_nodes() - 2)"
   ]
  },
  {
   "cell_type": "markdown",
   "metadata": {},
   "source": [
    "Média de *closeness simulado* e *betweenness simulado* para muitas repetições da simulação acima."
   ]
  },
  {
   "cell_type": "code",
   "execution_count": 9,
   "metadata": {},
   "outputs": [],
   "source": [
    "# TIMES = 1000\n",
    "# func_traj = random_geodesic_successor\n",
    "# difusao = False\n",
    "\n",
    "def simul(TIMES, func_traj, difusao):\n",
    "    for n in g.nodes:\n",
    "        g.nodes[n]['mean_closeness'] = 0\n",
    "        g.nodes[n]['mean_betweenness'] = 0\n",
    "\n",
    "    for _ in range(TIMES):\n",
    "        simulate_all_flows(g, func_traj, difusao)\n",
    "\n",
    "        for n in g.nodes:\n",
    "            g.nodes[n]['mean_closeness'] += g.nodes[n]['closeness']\n",
    "            g.nodes[n]['mean_betweenness'] += g.nodes[n]['betweenness']\n",
    "\n",
    "    for n in g.nodes:\n",
    "        g.nodes[n]['mean_closeness'] /= TIMES\n",
    "        g.nodes[n]['mean_betweenness'] /= TIMES\n",
    "        \n",
    "    df = pd.DataFrame({\n",
    "    'família': [g.nodes[n]['label'] for n in g.nodes],\n",
    "    'closeness simulado': [g.nodes[n]['mean_closeness'] for n in g.nodes],\n",
    "    'closeness analítico': [cc[n] for n in g.nodes],\n",
    "    'betweenness simulado': [g.nodes[n]['mean_betweenness'] for n in g.nodes],\n",
    "    'betweenness analítico': [bc[n] for n in g.nodes],\n",
    "    })\n",
    "    return df\n",
    "#     return df.sort_values(coluna, ascending=0)#.describe()"
   ]
  },
  {
   "cell_type": "markdown",
   "metadata": {},
   "source": [
    "Cálculo de *closeness* e *betweenness* a partir das funções prontas da NetworkX, para comparação."
   ]
  },
  {
   "cell_type": "code",
   "execution_count": 10,
   "metadata": {},
   "outputs": [],
   "source": [
    "cc = nx.closeness_centrality(g)\n",
    "\n",
    "bc = nx.betweenness_centrality(g)"
   ]
  },
  {
   "cell_type": "markdown",
   "metadata": {},
   "source": [
    "Construção de data frame só para comparar mais facilmente."
   ]
  },
  {
   "cell_type": "raw",
   "metadata": {
    "scrolled": false
   },
   "source": [
    "pd.DataFrame({\n",
    "    'família': [g.nodes[n]['label'] for n in g.nodes],\n",
    "    'closeness simulado': [g.nodes[n]['mean_closeness'] for n in g.nodes],\n",
    "    'closeness analítico': [cc[n] for n in g.nodes],\n",
    "    'betweenness simulado': [g.nodes[n]['mean_betweenness'] for n in g.nodes],\n",
    "    'betweenness analítico': [bc[n] for n in g.nodes],\n",
    "})"
   ]
  },
  {
   "cell_type": "markdown",
   "metadata": {},
   "source": [
    "E agora, vamos pensar um pouco...\n",
    "\n",
    "* Onde você precisa mudar o código para usar uma *trajetória* que não seja a *geodésica*? (caminho, trilha, passeio)\n",
    "\n",
    "* Onde você precisa mudar o código para usar uma *difusão* que não seja a *transferência*? (duplicação)\n",
    "\n",
    "Considere então a seguinte **hipótese**:\n",
    "\n",
    ">Quando consideramos outros tipos de trajetória e outros tipos de difusão, os nós com maior *closeness simulado* e *betweenness simulado* não são necessariamente os nós com maior *closeness* e *betweenness* segundo as fórmulas clássicas. (que correspondem ao uso de geodésica e transferência na simulação)\n",
    "\n",
    "Queremos:\n",
    "\n",
    "1. Operacionalização e teste dessas hipótese. (Objetivo 3)\n",
    "2. Interpretação dos resultados na linguagem de Análise de Redes Sociais (Objetivo 4)\n",
    "\n",
    "Um *feedback* da atividade sobre *coreness no Jazz* será dado em breve, para vocês terem uma melhor referência do item 2."
   ]
  },
  {
   "cell_type": "code",
   "execution_count": 13,
   "metadata": {},
   "outputs": [],
   "source": [
    "from scipy import stats"
   ]
  },
  {
   "cell_type": "code",
   "execution_count": 11,
   "metadata": {
    "scrolled": false
   },
   "outputs": [],
   "source": [
    "bm = simul(100, random_geodesic_successor, False)\n",
    "bmc = bm[\"closeness simulado\"]\n",
    "bmb = bm[\"betweenness simulado\"]"
   ]
  },
  {
   "cell_type": "code",
   "execution_count": 12,
   "metadata": {},
   "outputs": [],
   "source": [
    "gd = simul(100, random_geodesic_successor, True)\n",
    "gdc = gd[\"closeness simulado\"]\n",
    "gdb = gd[\"betweenness simulado\"]"
   ]
  },
  {
   "cell_type": "code",
   "execution_count": 17,
   "metadata": {},
   "outputs": [
    {
     "data": {
      "text/plain": [
       "Ttest_indResult(statistic=0.0, pvalue=1.0)"
      ]
     },
     "execution_count": 17,
     "metadata": {},
     "output_type": "execute_result"
    }
   ],
   "source": [
    "stats.ttest_ind(bmc,gdc)"
   ]
  },
  {
   "cell_type": "code",
   "execution_count": 21,
   "metadata": {},
   "outputs": [
    {
     "data": {
      "text/plain": [
       "Ttest_indResult(statistic=-1.9515438757532637, pvalue=0.061061154820251914)"
      ]
     },
     "execution_count": 21,
     "metadata": {},
     "output_type": "execute_result"
    }
   ],
   "source": [
    "stats.ttest_ind(bmb,gdb)"
   ]
  },
  {
   "cell_type": "code",
   "execution_count": 19,
   "metadata": {},
   "outputs": [],
   "source": [
    "pt = simul(100, random_path_successor, False)\n",
    "ptc = pt[\"closeness simulado\"]\n",
    "ptb = pt[\"betweenness simulado\"]"
   ]
  },
  {
   "cell_type": "code",
   "execution_count": 20,
   "metadata": {},
   "outputs": [
    {
     "data": {
      "text/plain": [
       "Ttest_indResult(statistic=8.2451788867819946, pvalue=5.6635843648710904e-09)"
      ]
     },
     "execution_count": 20,
     "metadata": {},
     "output_type": "execute_result"
    }
   ],
   "source": [
    "stats.ttest_ind(bmc,ptc)"
   ]
  },
  {
   "cell_type": "code",
   "execution_count": 22,
   "metadata": {},
   "outputs": [
    {
     "data": {
      "text/plain": [
       "Ttest_indResult(statistic=-2.1821056055505421, pvalue=0.037652019456590517)"
      ]
     },
     "execution_count": 22,
     "metadata": {},
     "output_type": "execute_result"
    }
   ],
   "source": [
    "stats.ttest_ind(bmb,ptb)"
   ]
  },
  {
   "cell_type": "code",
   "execution_count": 23,
   "metadata": {},
   "outputs": [],
   "source": [
    "pd = simul(100, random_path_successor, True)\n",
    "pdc = pd[\"closeness simulado\"]\n",
    "pdb = pd[\"betweenness simulado\"]"
   ]
  },
  {
   "cell_type": "code",
   "execution_count": 24,
   "metadata": {},
   "outputs": [
    {
     "data": {
      "text/plain": [
       "Ttest_indResult(statistic=8.0433010273854411, pvalue=9.2886656569200836e-09)"
      ]
     },
     "execution_count": 24,
     "metadata": {},
     "output_type": "execute_result"
    }
   ],
   "source": [
    "stats.ttest_ind(bmc,pdc)"
   ]
  },
  {
   "cell_type": "code",
   "execution_count": 25,
   "metadata": {},
   "outputs": [
    {
     "data": {
      "text/plain": [
       "Ttest_indResult(statistic=-8.3195038801268275, pvalue=4.7268085698887944e-09)"
      ]
     },
     "execution_count": 25,
     "metadata": {},
     "output_type": "execute_result"
    }
   ],
   "source": [
    "stats.ttest_ind(bmb,pdb)"
   ]
  },
  {
   "cell_type": "code",
   "execution_count": 26,
   "metadata": {},
   "outputs": [
    {
     "ename": "AttributeError",
     "evalue": "'DataFrame' object has no attribute 'DataFrame'",
     "output_type": "error",
     "traceback": [
      "\u001b[0;31m---------------------------------------------------------------------------\u001b[0m",
      "\u001b[0;31mAttributeError\u001b[0m                            Traceback (most recent call last)",
      "\u001b[0;32m<ipython-input-26-369eb01ac4db>\u001b[0m in \u001b[0;36m<module>\u001b[0;34m()\u001b[0m\n\u001b[0;32m----> 1\u001b[0;31m \u001b[0mtt1\u001b[0m \u001b[0;34m=\u001b[0m \u001b[0msimul\u001b[0m\u001b[0;34m(\u001b[0m\u001b[0;36m100\u001b[0m\u001b[0;34m,\u001b[0m \u001b[0mrandom_trail_successor\u001b[0m\u001b[0;34m,\u001b[0m \u001b[0;32mFalse\u001b[0m\u001b[0;34m)\u001b[0m\u001b[0;34m\u001b[0m\u001b[0m\n\u001b[0m\u001b[1;32m      2\u001b[0m \u001b[0mttc\u001b[0m \u001b[0;34m=\u001b[0m \u001b[0mtt1\u001b[0m\u001b[0;34m[\u001b[0m\u001b[0;34m\"closeness simulado\"\u001b[0m\u001b[0;34m]\u001b[0m\u001b[0;34m\u001b[0m\u001b[0m\n\u001b[1;32m      3\u001b[0m \u001b[0mttb\u001b[0m \u001b[0;34m=\u001b[0m \u001b[0mtt1\u001b[0m\u001b[0;34m[\u001b[0m\u001b[0;34m\"betweenness simulado\"\u001b[0m\u001b[0;34m]\u001b[0m\u001b[0;34m\u001b[0m\u001b[0m\n",
      "\u001b[0;32m<ipython-input-9-64e70c8bc1d8>\u001b[0m in \u001b[0;36msimul\u001b[0;34m(TIMES, func_traj, difusao)\u001b[0m\n\u001b[1;32m     19\u001b[0m         \u001b[0mg\u001b[0m\u001b[0;34m.\u001b[0m\u001b[0mnodes\u001b[0m\u001b[0;34m[\u001b[0m\u001b[0mn\u001b[0m\u001b[0;34m]\u001b[0m\u001b[0;34m[\u001b[0m\u001b[0;34m'mean_betweenness'\u001b[0m\u001b[0;34m]\u001b[0m \u001b[0;34m/=\u001b[0m \u001b[0mTIMES\u001b[0m\u001b[0;34m\u001b[0m\u001b[0m\n\u001b[1;32m     20\u001b[0m \u001b[0;34m\u001b[0m\u001b[0m\n\u001b[0;32m---> 21\u001b[0;31m     df = pd.DataFrame({\n\u001b[0m\u001b[1;32m     22\u001b[0m     \u001b[0;34m'família'\u001b[0m\u001b[0;34m:\u001b[0m \u001b[0;34m[\u001b[0m\u001b[0mg\u001b[0m\u001b[0;34m.\u001b[0m\u001b[0mnodes\u001b[0m\u001b[0;34m[\u001b[0m\u001b[0mn\u001b[0m\u001b[0;34m]\u001b[0m\u001b[0;34m[\u001b[0m\u001b[0;34m'label'\u001b[0m\u001b[0;34m]\u001b[0m \u001b[0;32mfor\u001b[0m \u001b[0mn\u001b[0m \u001b[0;32min\u001b[0m \u001b[0mg\u001b[0m\u001b[0;34m.\u001b[0m\u001b[0mnodes\u001b[0m\u001b[0;34m]\u001b[0m\u001b[0;34m,\u001b[0m\u001b[0;34m\u001b[0m\u001b[0m\n\u001b[1;32m     23\u001b[0m     \u001b[0;34m'closeness simulado'\u001b[0m\u001b[0;34m:\u001b[0m \u001b[0;34m[\u001b[0m\u001b[0mg\u001b[0m\u001b[0;34m.\u001b[0m\u001b[0mnodes\u001b[0m\u001b[0;34m[\u001b[0m\u001b[0mn\u001b[0m\u001b[0;34m]\u001b[0m\u001b[0;34m[\u001b[0m\u001b[0;34m'mean_closeness'\u001b[0m\u001b[0;34m]\u001b[0m \u001b[0;32mfor\u001b[0m \u001b[0mn\u001b[0m \u001b[0;32min\u001b[0m \u001b[0mg\u001b[0m\u001b[0;34m.\u001b[0m\u001b[0mnodes\u001b[0m\u001b[0;34m]\u001b[0m\u001b[0;34m,\u001b[0m\u001b[0;34m\u001b[0m\u001b[0m\n",
      "\u001b[0;32m~/.local/lib/python3.5/site-packages/pandas/core/generic.py\u001b[0m in \u001b[0;36m__getattr__\u001b[0;34m(self, name)\u001b[0m\n\u001b[1;32m   3612\u001b[0m             \u001b[0;32mif\u001b[0m \u001b[0mname\u001b[0m \u001b[0;32min\u001b[0m \u001b[0mself\u001b[0m\u001b[0;34m.\u001b[0m\u001b[0m_info_axis\u001b[0m\u001b[0;34m:\u001b[0m\u001b[0;34m\u001b[0m\u001b[0m\n\u001b[1;32m   3613\u001b[0m                 \u001b[0;32mreturn\u001b[0m \u001b[0mself\u001b[0m\u001b[0;34m[\u001b[0m\u001b[0mname\u001b[0m\u001b[0;34m]\u001b[0m\u001b[0;34m\u001b[0m\u001b[0m\n\u001b[0;32m-> 3614\u001b[0;31m             \u001b[0;32mreturn\u001b[0m \u001b[0mobject\u001b[0m\u001b[0;34m.\u001b[0m\u001b[0m__getattribute__\u001b[0m\u001b[0;34m(\u001b[0m\u001b[0mself\u001b[0m\u001b[0;34m,\u001b[0m \u001b[0mname\u001b[0m\u001b[0;34m)\u001b[0m\u001b[0;34m\u001b[0m\u001b[0m\n\u001b[0m\u001b[1;32m   3615\u001b[0m \u001b[0;34m\u001b[0m\u001b[0m\n\u001b[1;32m   3616\u001b[0m     \u001b[0;32mdef\u001b[0m \u001b[0m__setattr__\u001b[0m\u001b[0;34m(\u001b[0m\u001b[0mself\u001b[0m\u001b[0;34m,\u001b[0m \u001b[0mname\u001b[0m\u001b[0;34m,\u001b[0m \u001b[0mvalue\u001b[0m\u001b[0;34m)\u001b[0m\u001b[0;34m:\u001b[0m\u001b[0;34m\u001b[0m\u001b[0m\n",
      "\u001b[0;31mAttributeError\u001b[0m: 'DataFrame' object has no attribute 'DataFrame'"
     ]
    }
   ],
   "source": [
    "tt1 = simul(100, random_trail_successor, False)\n",
    "ttc = tt1[\"closeness simulado\"]\n",
    "ttb = tt1[\"betweenness simulado\"]"
   ]
  },
  {
   "cell_type": "code",
   "execution_count": null,
   "metadata": {},
   "outputs": [],
   "source": [
    "td = simul(100, random_trail_successor, True)\n",
    "tdc = td[\"closeness simulado\"]\n",
    "tdb = td[\"betweenness simulado\"]"
   ]
  },
  {
   "cell_type": "code",
   "execution_count": null,
   "metadata": {},
   "outputs": [],
   "source": [
    "wt = simul(100, random_walk_successor, False)\n",
    "wtc = wt[\"closeness simulado\"]\n",
    "wtb = wt[\"betweenness simulado\"]"
   ]
  },
  {
   "cell_type": "code",
   "execution_count": null,
   "metadata": {},
   "outputs": [],
   "source": [
    "wd = simul(100, random_walk_successor, True)\n",
    "wdc = wd[\"closeness simulado\"]\n",
    "wdb = wd[\"betweenness simulado\"]"
   ]
  },
  {
   "cell_type": "code",
   "execution_count": null,
   "metadata": {},
   "outputs": [],
   "source": []
  }
 ],
 "metadata": {
  "kernelspec": {
   "display_name": "Python 3",
   "language": "python",
   "name": "python3"
  },
  "language_info": {
   "codemirror_mode": {
    "name": "ipython",
    "version": 3
   },
   "file_extension": ".py",
   "mimetype": "text/x-python",
   "name": "python",
   "nbconvert_exporter": "python",
   "pygments_lexer": "ipython3",
   "version": "3.5.2"
  }
 },
 "nbformat": 4,
 "nbformat_minor": 1
}
